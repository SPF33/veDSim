{
 "cells": [
  {
   "cell_type": "code",
   "execution_count": 1,
   "metadata": {},
   "outputs": [],
   "source": [
    "import numpy as np\n",
    "import math\n",
    "import matplotlib.pyplot as plt"
   ]
  },
  {
   "cell_type": "code",
   "execution_count": 2,
   "metadata": {},
   "outputs": [],
   "source": [
    "## Tire horizontal force calculation\n",
    "def HorF(f_z_fl, f_z_fr, f_z_rl, f_z_rr,alpha, Ax, deltaW): # Horizontal Force\n",
    "    ### tire parameters\n",
    "    # c_roll:                       [-] rolling resistance coefficient\n",
    "    # f_z0:                         [N] nominal normal force\n",
    "    # B_front:                      [-] Coefficient B for front tire\n",
    "    # C_front:                      [-] Coefficient C for front tire\n",
    "    # eps_front:                    [-] load dependence of Coefficient D for front tire\n",
    "    # E_front:                      [-] Coefficient E for front tire\n",
    "    # B_rear:                       [-] Coefficient B for rear tire\n",
    "    # C_rear:                       [-] Coefficient C for rear tire\n",
    "    # eps_rear:                     [-] load dependence of Coefficient D for rear tire\n",
    "    # E_rear:                       [-] Coefficient E for rear tire\n",
    "    # Hint: The D parameter of the Magic Formula is determined by D = F_z * mue. mue can be set above in optim_opts_mintime!\n",
    "    tire = {\"c_roll\": 0.013,\n",
    "            \"f_z0\": 4000.0,\n",
    "            \"B_front\": 8.0,\n",
    "            \"C_front\": 2.5,\n",
    "            \"eps_front\": -0.1,\n",
    "            \"E_front\": 1.0,\n",
    "            \"B_rear\": 10.0,\n",
    "            \"C_rear\": 2.5,\n",
    "            \"eps_rear\": -0.1,\n",
    "            \"E_rear\": 1.0}\n",
    "    vehmass = 1600\n",
    "    brakebias = 0.65\n",
    "    g = 9.81\n",
    "    # TLLTD\n",
    "    \n",
    "    # longitudinal tire forces [N]\n",
    "    if Ax >= 0: # RWD\n",
    "        f_x_rl = 0.5 * Ax * g * vehmass\n",
    "        if f_x_rl >= f_z_rl:\n",
    "            f_x_rl = f_z_rl\n",
    "        f_x_rr = 0.5 * Ax * g * vehmass\n",
    "        if f_x_rr >= f_z_rr:\n",
    "            f_x_rr = f_z_rr\n",
    "        f_x_rl = min(f_x_rl, f_x_rr)\n",
    "        f_x_rr = min(f_x_rl, f_x_rr)\n",
    "        mu_rl = np.sqrt((f_z_rl)**2 - (f_x_rl)**2) / f_z_rl\n",
    "        mu_rr = np.sqrt((f_z_rr)**2 - (f_x_rr)**2) / f_z_rr\n",
    "        f_x_fl = 0\n",
    "        f_x_fr = 0\n",
    "        mu_fl = 1\n",
    "        mu_fr = 1\n",
    "        \n",
    "    if Ax < 0: ## Braking\n",
    "        f_x_rl = 0.5 * Ax * g * vehmass * (1-brakebias)\n",
    "        if abs(f_x_rl) >= f_z_rl:\n",
    "            mu_rl = 0\n",
    "            f_x_rl = -f_z_rl\n",
    "        else:  mu_rl = np.sqrt((f_z_rl)**2 - (f_x_rl)**2) / f_z_rl\n",
    "        f_x_rr = 0.5 * Ax * g * vehmass * (1-brakebias)\n",
    "        if abs(f_x_rr) >= f_z_rr:\n",
    "            mu_rr = 0\n",
    "            f_x_rr = -f_z_rr\n",
    "        else: mu_rr = np.sqrt((f_z_rr)**2 - (f_x_rr)**2) / f_z_rr\n",
    "        f_x_fl = 0.5 * Ax * g * vehmass * brakebias\n",
    "        if abs(f_x_fl) >= f_z_fl:\n",
    "            mu_fl = 0\n",
    "            f_x_fl = -f_z_fl\n",
    "        else:  mu_fl = np.sqrt((f_z_fl)**2 - (f_x_fl)**2) / f_z_fl\n",
    "        f_x_fr = 0.5 * Ax * g * vehmass * brakebias\n",
    "        if abs(f_x_fr) >= f_z_fr:\n",
    "            mu_fr = 0\n",
    "            f_x_fr = -f_z_fr\n",
    "        else: mu_fr = np.sqrt((f_z_fr)**2 - (f_x_fr)**2) / f_z_fr\n",
    "            \n",
    "   \n",
    "    \n",
    "    # lateral tire forces [N]\n",
    "    f_y_fl = (1.1*mu_fl * f_z_fl * (1 + tire[\"eps_front\"] * f_z_fl / tire[\"f_z0\"])\n",
    "              * math.sin(tire[\"C_front\"] * math.atan(tire[\"B_front\"] * alpha[0] - tire[\"E_front\"]\n",
    "                                                 * (tire[\"B_front\"] * alpha[0] - math.atan(tire[\"B_front\"] * alpha[0])))))\n",
    "    f_y_fr = (1.1*mu_fr * f_z_fr * (1 + tire[\"eps_front\"] * f_z_fr / tire[\"f_z0\"])\n",
    "              * math.sin(tire[\"C_front\"] * math.atan(tire[\"B_front\"] * alpha[1] - tire[\"E_front\"]\n",
    "                                                 * (tire[\"B_front\"] * alpha[1] - math.atan(tire[\"B_front\"] * alpha[1])))))\n",
    "    f_y_rl = (1.1*mu_rl * f_z_rl * (1 + tire[\"eps_rear\"] * f_z_rl / tire[\"f_z0\"])\n",
    "              * math.sin(tire[\"C_rear\"] * math.atan(tire[\"B_rear\"] * alpha[2] - tire[\"E_rear\"]\n",
    "                                                * (tire[\"B_rear\"] * alpha[2] - math.atan(tire[\"B_rear\"] * alpha[2])))))\n",
    "    f_y_rr = (1.1*mu_rr * f_z_rr * (1 + tire[\"eps_rear\"] * f_z_rr / tire[\"f_z0\"])\n",
    "              * math.sin(tire[\"C_rear\"] * math.atan(tire[\"B_rear\"] * alpha[3] - tire[\"E_rear\"]\n",
    "                                                * (tire[\"B_rear\"] * alpha[3] - math.atan(tire[\"B_rear\"] * alpha[3])))))\n",
    "    # Total Fx\n",
    "    Fx =(f_x_fl + f_x_fr) * math.cos(deltaW) + f_x_rl + f_x_rr + (-f_y_fl - f_y_fr) * math.sin(deltaW)\n",
    "    \n",
    "    # Total Fy\n",
    "    Fy = (f_y_fl + f_y_fr) * math.cos(deltaW) + f_y_rl + f_y_rr + (-f_x_fl - f_x_fr) * math.sin(deltaW)    \n",
    "    \n",
    "    return [[f_x_fl, f_x_fr, f_x_rl, f_x_rr], [f_y_fl, f_y_fr, f_y_rl, f_y_rr], Fx, Fy]\n",
    "\n",
    "\n",
    "## Wheel loads after lateral load transfer\n",
    "def llt(vehPars: dict, deltaW, fy: list, fx:list):\n",
    "    g = 9.81\n",
    "    # Total Fx\n",
    "    Fx =(fx[0] + fx[1]) * math.cos(deltaW) + fx[2] + fx[3] + (-fy[0] - fy[1]) * math.sin(deltaW)\n",
    "    \n",
    "    # Total Fy\n",
    "    Fy = (fy[0] + fy[1]) * math.cos(deltaW) + fy[2] + fy[3] + (-fx[0] - fx[1]) * math.sin(deltaW)\n",
    "    \n",
    "    #   Load Transfer Model\n",
    "    # static normal tire forces [N]\n",
    "    f_zstat_fl = 0.5 * vehPars[\"mass\"] * g * vehPars[\"l_rear\"] / vehPars[\"WB\"]\n",
    "    f_zstat_fr = 0.5 * vehPars[\"mass\"] * g * vehPars[\"l_rear\"] / vehPars[\"WB\"]\n",
    "    f_zstat_rl = 0.5 * vehPars[\"mass\"] * g * vehPars[\"l_front\"] / vehPars[\"WB\"]\n",
    "    f_zstat_rr = 0.5 * vehPars[\"mass\"] * g * vehPars[\"l_front\"] / vehPars[\"WB\"]\n",
    "\n",
    "#     # dynamic normal tire forces (aerodynamic downforces) [N]\n",
    "#     f_zlift_fl = 0.5 * veh[\"liftcoeff_front\"] * v ** 2\n",
    "#     f_zlift_fr = 0.5 * veh[\"liftcoeff_front\"] * v ** 2\n",
    "#     f_zlift_rl = 0.5 * veh[\"liftcoeff_rear\"] * v ** 2\n",
    "#     f_zlift_rr = 0.5 * veh[\"liftcoeff_rear\"] * v ** 2\n",
    "\n",
    "    # dynamic normal tire forces (load transfers) [N]\n",
    "    f_zdyn_fl = vehPars[\"CG_Height\"] * (-0.5 / vehPars[\"WB\"] * Fx - vehPars[\"k_roll\"] * Fy / vehPars[\"TrackWidth_f\"])\n",
    "    f_zdyn_fr = vehPars[\"CG_Height\"] * (-0.5 / vehPars[\"WB\"] * Fx + vehPars[\"k_roll\"] * Fy / vehPars[\"TrackWidth_f\"])\n",
    "    f_zdyn_rl = vehPars[\"CG_Height\"] * ( 0.5 / vehPars[\"WB\"] * Fx - (1.0 - vehPars[\"k_roll\"]) * Fy / vehPars[\"TrackWidth_r\"])\n",
    "    f_zdyn_rr = vehPars[\"CG_Height\"] * ( 0.5 / vehPars[\"WB\"] * Fx + (1.0 - vehPars[\"k_roll\"]) * Fy / vehPars[\"TrackWidth_r\"])\n",
    "\n",
    "    # sum of all normal tire forces [N]\n",
    "    f_z_fl = f_zstat_fl + f_zdyn_fl\n",
    "    f_z_fr = f_zstat_fr + f_zdyn_fr\n",
    "    f_z_rl = f_zstat_rl + f_zdyn_rl\n",
    "    f_z_rr = f_zstat_rr + f_zdyn_rr\n",
    "    \n",
    "    return [f_z_fl, f_z_fr, f_z_rl, f_z_rr]\n",
    "\n",
    "## Kinematics \n",
    "def slipangle(deltaW, u, v, vehPars: dict, omega_z):\n",
    "    alpha[0] = deltaW - math.atan((v + vehPars[\"l_front\"] * omega_z) /\n",
    "                                   (u - 0.5 * vehPars[\"TrackWidth_f\"] * omega_z))\n",
    "    alpha[1] = deltaW - math.atan((v + vehPars[\"l_front\"] * omega_z) /\n",
    "                                   (u + 0.5 * vehPars[\"TrackWidth_f\"] * omega_z))\n",
    "    alpha[2] = math.atan((-v + vehPars[\"l_rear\"] * omega_z) /\n",
    "                           (u - 0.5 *vehPars[\"TrackWidth_r\"] * omega_z))\n",
    "    alpha[3] = math.atan((-v + vehPars[\"l_rear\"] * omega_z) /\n",
    "                           (u + 0.5 * vehPars[\"TrackWidth_r\"] * omega_z))\n",
    "#     alpha[0] = deltaW - math.atan((u * math.sin(beta) + vehPars[\"l_front\"] * omega_z) /\n",
    "#                                    (u * math.cos(beta) - 0.5 * vehPars[\"TrackWidth_f\"] * omega_z))\n",
    "#     alpha[1] = deltaW - math.atan((u * math.sin(beta) + vehPars[\"l_front\"] * omega_z) /\n",
    "#                                    (u * math.cos(beta) + 0.5 * vehPars[\"TrackWidth_f\"] * omega_z))\n",
    "#     alpha[2] = math.atan((-u * beta + vehPars[\"l_rear\"] * omega_z) /\n",
    "#                            (u - 0.5 *vehPars[\"TrackWidth_r\"] * omega_z))\n",
    "#     alpha[3] = math.atan((-u * beta + vehPars[\"l_rear\"] * omega_z) /\n",
    "#                            (u + 0.5 * vehPars[\"TrackWidth_r\"] * omega_z))\n",
    "    return alpha"
   ]
  },
  {
   "cell_type": "code",
   "execution_count": 3,
   "metadata": {},
   "outputs": [],
   "source": [
    "# Vehicle parameters\n",
    "vehPars = {\"mass\": 1600,\n",
    "           \"l_front\": 1.15,\n",
    "           \"l_rear\": 1.55,\n",
    "           \"WB\": 2.7,\n",
    "           \"Jz\": 3000,\n",
    "           \"Jx\": 1000,\n",
    "           \"TrackWidth_f\": 1.6,\n",
    "           \"TrackWidth_r\": 1.6,\n",
    "           \"CG_Height\": 0.5,\n",
    "           \"RCH\": 0.3,\n",
    "           \"k_roll\":0.65}   # TLLTD\n"
   ]
  },
  {
   "cell_type": "code",
   "execution_count": 18,
   "metadata": {},
   "outputs": [],
   "source": [
    "# System dynamics \n",
    "def fdot(Xk,Uk,V,vehPars: dict):\n",
    "    X_dot = np.zeros([4, 1])\n",
    "    Fz = np.zeros(4)\n",
    "    u = V        # Forward speed\n",
    "    \n",
    "    # Update wheel loads !!need to set up as inputs!!\n",
    "#     Fz = llt(vehPars, Uk, Fy, Fx)\n",
    "    Fz = llt(vehPars, Uk, [Xk[2]/2, Xk[2]/2, Xk[3]/2, Xk[3]/2], [0, 0, 0, 0])\n",
    "    \n",
    "    alpha = slipangle(Uk, u, Xk[0], vehPars, Xk[1])\n",
    "#     print(\"alpha_rl = \", alpha[2]*180/np.pi)\n",
    "    FxFy = HorF(Fz[0], Fz[1], Fz[2], Fz[3],alpha, 0, Uk)\n",
    "    Fx = FxFy[0]\n",
    "    Fy = FxFy[1]\n",
    "    # Non-linear tire characteristics\n",
    "    Ff = Fy[0] + Fy[1]\n",
    "    Fr = Fy[2] + Fy[3]\n",
    "    \n",
    "    \n",
    "    # derivatives\n",
    "    X_dot[0:1] = (1/vehPars[\"mass\"] * (Xk[2] + Xk[3])) - u*Xk[1]       # Derivative of lateral velocity(v_dot)\n",
    "    X_dot[1:2] = 1/vehPars[\"Jz\"]*(Xk[2]*vehPars[\"l_front\"] - Xk[3]*vehPars[\"l_rear\"]) # Derivative of lateral velocity yaw rate (phi_dot)\n",
    "    X_dot[2:3] = vehPars[\"sigma_f\"] * (Ff - Xk[2]) # Force dynamics lateral front (PT-1)\n",
    "    X_dot[3:4] = 10 * (Fr - Xk[3]) # Force dynamics lateral rear (PT-1)\n",
    "#     X_dot[4:5] = 10 * (Fr - Xk[3]) # Roll velocity\n",
    "#     print(Ff)    \n",
    "    return X_dot"
   ]
  },
  {
   "cell_type": "code",
   "execution_count": 19,
   "metadata": {},
   "outputs": [
    {
     "data": {
      "image/png": "[encoded data removed]",
      "text/plain": [
       "<Figure size 432x288 with 1 Axes>"
      ]
     },
     "metadata": {
      "needs_background": "light"
     },
     "output_type": "display_data"
    }
   ],
   "source": [
    "## Execution of Sim\n",
    "vehPars = {\"mass\": 1600,\n",
    "           \"l_front\": 1.15,\n",
    "           \"l_rear\": 1.55,\n",
    "           \"WB\": 2.7,\n",
    "           \"Jz\": 3000,\n",
    "           \"Jx\": 1000,\n",
    "           \"TrackWidth_f\": 1.6,\n",
    "           \"TrackWidth_r\": 1.6,\n",
    "           \"CG_Height\": 0.5,\n",
    "           \"RCH\": 0.3,\n",
    "           \"k_roll\":0.3,# TLLTD\n",
    "           \"sigma_f\": 10}   # forward speed/relaxation length\n",
    "V = 5\n",
    "##simulation\n",
    "time = 3 # [s] total simulation time\n",
    "dt = 0.01 # time step for simulation\n",
    "N = int(time/dt)\n",
    "X = np.zeros([4, N+1]) #initializing states\n",
    "U = np.zeros(N+1)      #initializing control input\n",
    "Fy = np.zeros(4)       #initializing\n",
    "Fz = np.zeros(4)       #initializing\n",
    "alpha = np.zeros(4)    #initializing\n",
    "X[:,0] = [0,0,0,0]    # Initial states\n",
    "\n",
    "Fz[0] = 0.5 * vehPars[\"mass\"] * 9.81 * vehPars[\"l_rear\"] / vehPars[\"WB\"]\n",
    "Fz[1] = 0.5 * vehPars[\"mass\"] * 9.81 * vehPars[\"l_rear\"] / vehPars[\"WB\"]\n",
    "Fz[2] = 0.5 * vehPars[\"mass\"] * 9.81 * vehPars[\"l_front\"] / vehPars[\"WB\"]\n",
    "Fz[3] = 0.5 * vehPars[\"mass\"] * 9.81 * vehPars[\"l_front\"] / vehPars[\"WB\"]\n",
    "NU = int(strt_U/dt+1)\n",
    "temp = 0\n",
    "pha = 0\n",
    "\n",
    "## Define steering input\n",
    "max_U = 0.02    # [rad] SS front wheel angle\n",
    "strt_U = 1     # [s] Start time of steering action\n",
    "rate_U = 0.1   # [rad/s]Rate of steering action\n",
    "for i in range(N-NU):\n",
    "## sine wave #####################################\n",
    "#     pha = pha + 0.5*np.pi*dt\n",
    "#     temp = 0.01*math.sin(pha) \n",
    "#     U[i + NU] = temp\n",
    "##################################################\n",
    "\n",
    "## Step steer#####################################\n",
    "    temp = temp + dt*rate_U\n",
    "    U[i + NU] = temp\n",
    "    if temp > max_U:\n",
    "        U[i + NU:] = max_U\n",
    "        break\n",
    "#################################################        \n",
    "        \n",
    "## Impulse Steer #################################\n",
    "#     pha = pha + 2*np.pi*dt\n",
    "#     temp = 0.03*math.sin(pha)\n",
    "#     U[i + NU] = temp\n",
    "#     if i >= 0.5/dt:\n",
    "#         U[i + NU:] = 0\n",
    "#         break\n",
    "##################################################\n",
    "\n",
    "## Integration RK4\n",
    "for i in range(N):\n",
    "    Xk = X[:,i:i+1]\n",
    "    Uk = U[i]\n",
    "    k1 = fdot(Xk,Uk,V, vehPars)\n",
    "#     print(k1)\n",
    "    k2 = fdot(Xk+ k1 * dt/2,Uk, V, vehPars)\n",
    "    k3 = fdot(Xk+ k2 * dt/2,Uk, V, vehPars)\n",
    "    k4 = fdot(Xk+ k3 * dt,Uk, V, vehPars)\n",
    "    X[:,i+1:i+2] = Xk + (k1 + 2*k2 + 2*k3 + k4)*dt/6\n",
    "# plt.plot(np.linspace(0, time, num=N+1),U*180/np.pi*15)\n",
    "plt.plot(np.linspace(0, time, num=N+1),X[1,:]*180/np.pi) # yaw rate\n",
    "plt.plot(np.linspace(0, time, num=N+1),X[0,:]/V*180/np.pi) # side slip angle\n",
    "plt.grid()"
   ]
  },
  {
   "cell_type": "code",
   "execution_count": 17,
   "metadata": {},
   "outputs": [
    {
     "data": {
      "image/png": "[encoded data removed]",
      "text/plain": [
       "<Figure size 432x288 with 1 Axes>"
      ]
     },
     "metadata": {
      "needs_background": "light"
     },
     "output_type": "display_data"
    }
   ],
   "source": [
    "# \n",
    "plt.plot(np.linspace(0, time, num=N+1),X[1,:]*vehPars[\"Jz\"]/(30*vehPars[\"mass\"])) # \n",
    "plt.plot(np.linspace(0, time, num=N+1),X[1,:]/V) # turning radius\n",
    "plt.grid()"
   ]
  },
  {
   "cell_type": "code",
   "execution_count": 10,
   "metadata": {},
   "outputs": [
    {
     "data": {
      "image/png": "[encoded data removed]",
      "text/plain": [
       "<Figure size 432x288 with 1 Axes>"
      ]
     },
     "metadata": {
      "needs_background": "light"
     },
     "output_type": "display_data"
    }
   ],
   "source": [
    "plt.plot(np.linspace(0, time, num=N+1),X[2,:]/(Fz[0] + Fz[1]))\n",
    "plt.plot(np.linspace(0, time, num=N+1),X[3,:]/(Fz[2] + Fz[3]))\n",
    "# plt.plot(np.linspace(0, time, num=N+1),U)\n",
    "plt.grid()"
   ]
  },
  {
   "cell_type": "code",
   "execution_count": 9,
   "metadata": {},
   "outputs": [
    {
     "data": {
      "image/png": "[encoded data removed]",
      "text/plain": [
       "<Figure size 432x288 with 1 Axes>"
      ]
     },
     "metadata": {
      "needs_background": "light"
     },
     "output_type": "display_data"
    }
   ],
   "source": [
    "plt.plot(np.linspace(0, time, num=N+1),(X[2,:]+X[3,:])/(sum(Fz)))\n",
    "plt.plot(np.linspace(0, time, num=N+1),U/0.01)\n",
    "# plt.plot(np.linspace(0, time, num=N+1),U)\n",
    "plt.grid()"
   ]
  },
  {
   "cell_type": "code",
   "execution_count": 27,
   "metadata": {},
   "outputs": [
    {
     "data": {
      "image/png": "[encoded data removed]",
      "text/plain": [
       "<Figure size 432x288 with 1 Axes>"
      ]
     },
     "metadata": {
      "needs_background": "light"
     },
     "output_type": "display_data"
    }
   ],
   "source": [
    "## Checking transient effects of relaxation length\n",
    "V = 30\n",
    "for sig_f in [0.3]:\n",
    "    vehPars = {\"mass\": 1600,\n",
    "           \"l_front\": 1.35,\n",
    "           \"l_rear\": 1.35,\n",
    "           \"WB\": 2.7,\n",
    "           \"Jz\": 3000,\n",
    "           \"TrackWidth_f\": 1.6,\n",
    "           \"TrackWidth_r\": 1.6,\n",
    "           \"CG_Height\": 0.5,\n",
    "           \"RCH\": 0.3,\n",
    "           \"k_roll\":sig_f,\n",
    "           \"sigma_f\": V/2}   # TLLTD\n",
    "    ##simulation\n",
    "    time = 5 # [s]\n",
    "    dt = 0.01\n",
    "    N = int(time/dt)\n",
    "    X = np.zeros([4, N+1])\n",
    "    U = np.zeros(N+1)\n",
    "    Fy = np.zeros(4)\n",
    "    Fz = np.zeros(4)\n",
    "    alpha = np.zeros(4)\n",
    "    X[:,0] = [0,0,0,0]\n",
    "    max_U = 0.03    # [rad] SS front wheel angle\n",
    "    strt_U = 1     # [s] Start of steering action\n",
    "    rate_U = 0.1   # [rad/s]Rate of steering action\n",
    "    Fz[0] = 0.5 * vehPars[\"mass\"] * 9.81 * vehPars[\"l_rear\"] / vehPars[\"WB\"]\n",
    "    Fz[1] = 0.5 * vehPars[\"mass\"] * 9.81 * vehPars[\"l_rear\"] / vehPars[\"WB\"]\n",
    "    Fz[2] = 0.5 * vehPars[\"mass\"] * 9.81 * vehPars[\"l_front\"] / vehPars[\"WB\"]\n",
    "    Fz[3] = 0.5 * vehPars[\"mass\"] * 9.81 * vehPars[\"l_front\"] / vehPars[\"WB\"]\n",
    "    NU = int(strt_U/dt+1)\n",
    "    temp = 0\n",
    "    pha = 0\n",
    "    for i in range(N-NU):\n",
    "    ## sine wave #####################################\n",
    "#         pha = pha + 0.5*np.pi*dt\n",
    "#         temp = 0.03*math.sin(pha) \n",
    "#         U[i + NU] = temp\n",
    "    ##################################################\n",
    "\n",
    "    ## Step steer#####################################\n",
    "        temp = temp + dt*rate_U\n",
    "        U[i + NU] = temp\n",
    "        if temp > max_U:\n",
    "            U[i + NU:] = max_U\n",
    "            break\n",
    "    ##################################################        \n",
    "\n",
    "    ## Impulse Steer #################################\n",
    "    #     pha = pha + 2*np.pi*dt\n",
    "    #     temp = 0.03*math.sin(pha)\n",
    "    #     U[i + NU] = temp\n",
    "    #     if i >= 0.5/dt:\n",
    "    #         U[i + NU:] = 0\n",
    "    #         break\n",
    "    ##################################################\n",
    "\n",
    "    ## Integration RK4\n",
    "    for i in range(N):\n",
    "        Xk = X[:,i:i+1]\n",
    "        Uk = U[i]\n",
    "        k1 = fdot(Xk,Uk,V, vehPars)\n",
    "    #     print(k1)\n",
    "        k2 = fdot(Xk+ k1 * dt/2,Uk,V, vehPars)\n",
    "        k3 = fdot(Xk+ k2 * dt/2,Uk,V, vehPars)\n",
    "        k4 = fdot(Xk+ k3 * dt,Uk,V, vehPars)\n",
    "        X[:,i+1:i+2] = Xk + (k1 + 2*k2 + 2*k3 + k4)*dt/6\n",
    "    \n",
    "    plt.plot(np.linspace(0, time, num=N+1),X[1,:]*180/np.pi)\n",
    "    plt.plot(np.linspace(0, time, num=N+1),X[0,:]/30*180/np.pi)\n",
    "plt.plot(np.linspace(0, time, num=N+1),U*180/np.pi*15)\n",
    "plt.grid()"
   ]
  },
  {
   "cell_type": "code",
   "execution_count": null,
   "metadata": {},
   "outputs": [],
   "source": []
  },
  {
   "cell_type": "code",
   "execution_count": 11,
   "metadata": {},
   "outputs": [
    {
     "data": {
      "image/png": "[encoded data removed]",
      "text/plain": [
       "<Figure size 432x288 with 1 Axes>"
      ]
     },
     "metadata": {
      "needs_background": "light"
     },
     "output_type": "display_data"
    }
   ],
   "source": [
    "# Check MF\n",
    "Fz[0] = 0.5 * vehPars[\"mass\"] * 9.81 * vehPars[\"l_rear\"] / vehPars[\"WB\"]\n",
    "Fz[1] = 0.5 * vehPars[\"mass\"] * 9.81 * vehPars[\"l_rear\"] / vehPars[\"WB\"]\n",
    "Fz[2] = 0.5 * vehPars[\"mass\"] * 9.81 * vehPars[\"l_front\"] / vehPars[\"WB\"]\n",
    "Fz[3] = 0.5 * vehPars[\"mass\"] * 9.81 * vehPars[\"l_front\"] / vehPars[\"WB\"]\n",
    "for Ax in [0]:\n",
    "    F = []\n",
    "    for alpha in np.linspace(-0.2, 0.2, num=250):\n",
    "        F.append(HorF(Fz[0], Fz[1], Fz[2], Fz[3],[alpha, alpha, alpha, alpha],Ax,0)[1][2])\n",
    "    plt.plot(np.linspace(-0.2, 0.2, num=250), F/Fz[2])\n",
    "plt.grid()"
   ]
  }
 ],
 "metadata": {
  "kernelspec": {
   "display_name": "Python 3",
   "language": "python",
   "name": "python3"
  },
  "language_info": {
   "codemirror_mode": {
    "name": "ipython",
    "version": 3
   },
   "file_extension": ".py",
   "mimetype": "text/x-python",
   "name": "python",
   "nbconvert_exporter": "python",
   "pygments_lexer": "ipython3",
   "version": "3.8.0"
  }
 },
 "nbformat": 4,
 "nbformat_minor": 4
}
