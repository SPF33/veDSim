{
 "cells": [
  {
   "cell_type": "code",
   "execution_count": 53,
   "metadata": {},
   "outputs": [],
   "source": [
    "import numpy as np\n",
    "import math\n",
    "import matplotlib.pyplot as plt"
   ]
  },
  {
   "cell_type": "code",
   "execution_count": 54,
   "metadata": {},
   "outputs": [],
   "source": [
    "# MF\n",
    "def mf(mu,ka,C,E,alpha):\n",
    "    # simplified Magic Formula tyre model (providing normalised characteristics)\n",
    "\n",
    "    B=ka/(mu*C);\n",
    "    FyFz = mu*math.sin(C*math.atan((1-E)*B*alpha+E*math.atan(B*alpha)));\n",
    "    \n",
    "    return FyFz"
   ]
  },
  {
   "cell_type": "markdown",
   "metadata": {},
   "source": [
    "Non-linear STM"
   ]
  },
  {
   "cell_type": "code",
   "execution_count": 55,
   "metadata": {},
   "outputs": [],
   "source": [
    "# System dynamics \n",
    "def fdot(Xk,Uk,Vk):\n",
    "    X_dot = np.zeros([4, 1])\n",
    "    ## Vehicle parameters\n",
    "    g = 9.81\n",
    "    m = 1600      # Total mass\n",
    "    l = 2.7       # Wheel base\n",
    "    lf = 1.35     # CoG distance to front axle\n",
    "    Jz = 3000     # Yaw moment of inertia\n",
    "    \n",
    "    # tire parameters\n",
    "    Kf = 80000 / (m*g*(l-lf)/l)    # Normalized cornering stiffness front\n",
    "    Kr = 100000 / (m*g*lf/l)   # Cornering stiffness rear\n",
    "    SigF = 0.5 # front elation length\n",
    "    SigR = 0.5 # rear elation length\n",
    "    \n",
    "    # shape parameter for tire lateral force\n",
    "    mu = 1\n",
    "    C = 1.3\n",
    "    E = -1\n",
    "    \n",
    "\n",
    "    V = Vk        # Forward speed\n",
    "    \n",
    "    # Non-linear tire characteristics\n",
    "    alphaF = Uk - (Xk[1] * lf + Xk[0])/V\n",
    "    Ff = mf(mu,Kf,C,E,alphaF)*m*g*(l-lf)/l\n",
    "#     print(Ff) \n",
    "#     if Ff > mu*(l - lf)/l*m*g: Ff = mu*(l - lf)/l*m*g\n",
    "    alphaR = (Xk[1] * (l - lf) - Xk[0])/V\n",
    "    Fr = mf(mu,Kr,C,E,alphaR)*m*g*lf/l\n",
    "#     if abs(Fr) > mu*lf/l*m*g: Fr = mu*lf/l*m*g\n",
    "\n",
    "    X_dot[0:1] = (1/m*(Xk[2]+ Xk[3])) - V*Xk[1]       # v_dot\n",
    "    X_dot[1:2] = 1/Jz*(Xk[2]*lf - Xk[3]*(l-lf))       # phi_dot\n",
    "#     X_dot[0:1] = (1/m*(Ff+ Fr)) - V*Xk[1]       # v_dot\n",
    "#     X_dot[1:2] = 1/Jz*(Ff*lf - Fr*(l-lf))       # phi_dot\n",
    "    X_dot[2:3] = V/SigF * (Ff - Xk[2]) # Force dynamics lateral front (PT-1)\n",
    "    X_dot[3:4] = V/SigR * (Fr - Xk[3]) # Force dynamics lateral rear (PT-1)\n",
    "#     print(Ff)    \n",
    "    return X_dot"
   ]
  },
  {
   "cell_type": "code",
   "execution_count": 56,
   "metadata": {},
   "outputs": [
    {
     "data": {
      "text/plain": [
       "[<matplotlib.lines.Line2D at 0x1b0e4c9e940>]"
      ]
     },
     "execution_count": 56,
     "metadata": {},
     "output_type": "execute_result"
    },
    {
     "data": {
      "image/png": "[encoded data removed]",
      "text/plain": [
       "<Figure size 432x288 with 1 Axes>"
      ]
     },
     "metadata": {
      "needs_background": "light"
     },
     "output_type": "display_data"
    }
   ],
   "source": [
    "##simulation\n",
    "V = 30 # Forward speed\n",
    "time = 4 # [s]\n",
    "dt = 0.01\n",
    "N = int(time/dt)\n",
    "X = np.zeros([4, N+1])\n",
    "U = np.zeros(N+1)\n",
    "X[:,0] = [0,0,0,0]\n",
    "\n",
    "temp = 0\n",
    "\n",
    "######################################################\n",
    "# Define input\n",
    "######################################################\n",
    "max_U = 0.03    # [rad] SS front wheel angle\n",
    "strt_U = 1     # [s] Start of steering action\n",
    "rate_U = 0.4   # [rad/s]Rate of steering action\n",
    "pha = 0\n",
    "NU = int(strt_U/dt+1)\n",
    "for i in range(N-NU):\n",
    "     \n",
    "## sine wave #####################################\n",
    "#     pha = pha + 2*np.pi*dt\n",
    "#     temp = 0.2*math.sin(pha) \n",
    "#     U[i + NU] = temp\n",
    "##################################################\n",
    "\n",
    "## Step steer#####################################\n",
    "    temp = temp + dt*rate_U\n",
    "    U[i + NU] = temp\n",
    "    if temp > max_U:\n",
    "        U[i + NU:] = max_U\n",
    "        break\n",
    "# #################################################        \n",
    "        \n",
    "## Impulse Steer #################################\n",
    "#     pha = pha + 4*np.pi*dt\n",
    "#     temp = max_U*math.sin(pha)\n",
    "#     U[i + NU] = temp\n",
    "#     if i >= 0.25/dt:\n",
    "#         U[i + NU:] = 0\n",
    "#         break\n",
    "##################################################\n",
    "\n",
    "######################################################\n",
    "\n",
    "# Integration RK4\n",
    "for i in range(N):\n",
    "    Xk = X[:,i:i+1]\n",
    "    Uk = U[i]\n",
    "    k1 = fdot(Xk,Uk,V)\n",
    "    k2 = fdot(Xk+ k1 * dt/2,Uk,V)\n",
    "    k3 = fdot(Xk+ k2 * dt/2,Uk,V)\n",
    "    k4 = fdot(Xk+ k3 * dt,Uk,V)\n",
    "    X[:,i+1:i+2] = Xk + (k1 + 2*k2 + 2*k3 + k4)*dt/6\n",
    "    \n",
    "plt.plot(np.linspace(0, time, num=N+1),X[1,:]*180/np.pi)     # Yaw rate\n",
    "plt.plot(np.linspace(0, time, num=N+1),X[0,:]/V*180/np.pi)  # sideslip\n",
    "plt.plot(np.linspace(0, time, num=N+1),U*180/np.pi)"
   ]
  },
  {
   "cell_type": "code",
   "execution_count": 57,
   "metadata": {},
   "outputs": [
    {
     "data": {
      "text/plain": [
       "[<matplotlib.lines.Line2D at 0x1b0e4ff5730>]"
      ]
     },
     "execution_count": 57,
     "metadata": {},
     "output_type": "execute_result"
    },
    {
     "data": {
      "image/png": "[encoded data removed]",
      "text/plain": [
       "<Figure size 432x288 with 1 Axes>"
      ]
     },
     "metadata": {
      "needs_background": "light"
     },
     "output_type": "display_data"
    }
   ],
   "source": [
    "plt.plot(np.linspace(0, time, num=N+1),X[2,:]*1.35)   # Yaw moment from FA\n",
    "plt.plot(np.linspace(0, time, num=N+1),X[3,:]*1.35)   # Anti-Yaw moment from RA"
   ]
  },
  {
   "cell_type": "code",
   "execution_count": 58,
   "metadata": {},
   "outputs": [
    {
     "data": {
      "image/png": "[encoded data removed]",
      "text/plain": [
       "<Figure size 432x288 with 1 Axes>"
      ]
     },
     "metadata": {
      "needs_background": "light"
     },
     "output_type": "display_data"
    }
   ],
   "source": [
    "# comparing different speeds\n",
    "for V in [10,30]:\n",
    "#     vehPars = {\"mass\": 1600,\n",
    "#            \"l_front\": 1.35,\n",
    "#            \"l_rear\": 1.35,\n",
    "#            \"WB\": 2.7,\n",
    "#            \"Jz\": 3000,\n",
    "#            \"TrackWidth_f\": 1.6,\n",
    "#            \"TrackWidth_r\": 1.6,\n",
    "#            \"CG_Height\": 0.5,\n",
    "#            \"RCH\": 0.3,\n",
    "#            \"k_roll\":sig_f,\n",
    "#            \"sigma_f\": V/2}   # TLLTD\n",
    "    ##simulation\n",
    "    time = 5 # [s]\n",
    "    dt = 0.01\n",
    "    N = int(time/dt)\n",
    "    X = np.zeros([4, N+1])\n",
    "    U = np.zeros(N+1)\n",
    "    Fy = np.zeros(4)\n",
    "    Fz = np.zeros(4)\n",
    "    alpha = np.zeros(4)\n",
    "    X[:,0] = [0,0,0,0]\n",
    "    max_U = 0.02    # [rad] SS front wheel angle\n",
    "    strt_U = 1     # [s] Start of steering action\n",
    "    rate_U = 1   # [rad/s]Rate of steering action\n",
    "#     Fz[0] = 0.5 * vehPars[\"mass\"] * 9.81 * vehPars[\"l_rear\"] / vehPars[\"WB\"]\n",
    "#     Fz[1] = 0.5 * vehPars[\"mass\"] * 9.81 * vehPars[\"l_rear\"] / vehPars[\"WB\"]\n",
    "#     Fz[2] = 0.5 * vehPars[\"mass\"] * 9.81 * vehPars[\"l_front\"] / vehPars[\"WB\"]\n",
    "#     Fz[3] = 0.5 * vehPars[\"mass\"] * 9.81 * vehPars[\"l_front\"] / vehPars[\"WB\"]\n",
    "    NU = int(strt_U/dt+1)\n",
    "    temp = 0\n",
    "    pha = 0\n",
    "    for i in range(N-NU):\n",
    "    ## sine wave #####################################\n",
    "#         pha = pha + 0.5*np.pi*dt\n",
    "#         temp = 0.03*math.sin(pha) \n",
    "#         U[i + NU] = temp\n",
    "    ##################################################\n",
    "\n",
    "    ## Step steer#####################################\n",
    "        temp = temp + dt*rate_U\n",
    "        U[i + NU] = temp\n",
    "        if temp > max_U:\n",
    "            U[i + NU:] = max_U\n",
    "            break\n",
    "    ##################################################        \n",
    "\n",
    "    ## Impulse Steer #################################\n",
    "    #     pha = pha + 2*np.pi*dt\n",
    "    #     temp = 0.03*math.sin(pha)\n",
    "    #     U[i + NU] = temp\n",
    "    #     if i >= 0.5/dt:\n",
    "    #         U[i + NU:] = 0\n",
    "    #         break\n",
    "    ##################################################\n",
    "\n",
    "    ## Integration RK4\n",
    "    for i in range(N):\n",
    "        Xk = X[:,i:i+1]\n",
    "        Uk = U[i]\n",
    "        k1 = fdot(Xk,Uk,V)\n",
    "    #     print(k1)\n",
    "        k2 = fdot(Xk+ k1 * dt/2,Uk,V)\n",
    "        k3 = fdot(Xk+ k2 * dt/2,Uk,V)\n",
    "        k4 = fdot(Xk+ k3 * dt,Uk,V)\n",
    "        X[:,i+1:i+2] = Xk + (k1 + 2*k2 + 2*k3 + k4)*dt/6\n",
    "    \n",
    "#     plt.plot(np.linspace(0, time, num=N+1),X[1,:]*180/np.pi)\n",
    "    plt.plot(np.linspace(0, time, num=N+1),X[0,:]/V*180/np.pi)\n",
    "# plt.plot(np.linspace(0, time, num=N+1),U*180/np.pi*15)\n",
    "plt.grid()"
   ]
  },
  {
   "cell_type": "code",
   "execution_count": null,
   "metadata": {},
   "outputs": [],
   "source": [
    "# next Bode plots..."
   ]
  }
 ],
 "metadata": {
  "kernelspec": {
   "display_name": "Python 3",
   "language": "python",
   "name": "python3"
  },
  "language_info": {
   "codemirror_mode": {
    "name": "ipython",
    "version": 3
   },
   "file_extension": ".py",
   "mimetype": "text/x-python",
   "name": "python",
   "nbconvert_exporter": "python",
   "pygments_lexer": "ipython3",
   "version": "3.8.0"
  }
 },
 "nbformat": 4,
 "nbformat_minor": 4
}
